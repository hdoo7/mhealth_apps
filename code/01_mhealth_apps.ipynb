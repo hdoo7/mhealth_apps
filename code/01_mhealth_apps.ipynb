{
 "cells": [
  {
   "cell_type": "markdown",
   "id": "18daf6ea-c537-4993-9d8e-7497c088437c",
   "metadata": {},
   "source": [
    "# Statistics of Extracted Data on mHealth Apps"
   ]
  },
  {
   "cell_type": "code",
   "execution_count": 1,
   "id": "5471fecc-3f03-4369-abac-69bf23e560fb",
   "metadata": {},
   "outputs": [],
   "source": [
    "import pandas as pd\n",
    "import matplotlib.pyplot as plt\n",
    "\n",
    "result_df = pd.read_csv(\"../data/mhealth_apps.csv\")"
   ]
  },
  {
   "cell_type": "code",
   "execution_count": 2,
   "id": "75000cf2-32ef-47c5-aef7-45991ee862a5",
   "metadata": {},
   "outputs": [
    {
     "data": {
      "text/plain": [
       "Index(['app_name', 'app_id', 'categories', 'content_rating', 'updated_on',\n",
       "       'downloads', 'free', 'offersIAP', 'top_grossing', 'is_privacy_policy',\n",
       "       'countries', 'inAppProductPrice', 'privacy_policy_link', 'permissions',\n",
       "       'num_permissions', 'dangerous_permissions', 'num_dangerous_permissions',\n",
       "       'trackers', 'num_trackers'],\n",
       "      dtype='object')"
      ]
     },
     "execution_count": 2,
     "metadata": {},
     "output_type": "execute_result"
    }
   ],
   "source": [
    "result_df.columns"
   ]
  },
  {
   "cell_type": "code",
   "execution_count": 3,
   "id": "9e5a13d9-9ee0-4b1f-ba66-b15b565995ec",
   "metadata": {
    "scrolled": true
   },
   "outputs": [
    {
     "name": "stdout",
     "output_type": "stream",
     "text": [
      "Statistics of all mHealth Apps:\n",
      "========================================\n",
      "Total Apps Queried:                      856\n",
      "Total Unique Apps Found:                 856\n",
      "Average downloads of All Apps:           22301635.89\n",
      "Total Unique countries:                  225\n",
      "Total Privacy Policy (Yes):              856\n",
      "Total Privacy Policy (No):               0\n",
      "Total free Apps:                         831\n",
      "Total Paid Apps:                         25\n",
      "Total Apps offer in App Purchase:        319\n",
      "Total Apps DO NOT offer in App Purchase: 537\n",
      "Total Apps with in App Product Price:    456\n",
      "Total Top-Grossing Apps:                 188\n",
      "Total Number of categories:              18\n",
      "\n",
      "Statistics of Categories:\n",
      "========================================\n",
      "Health & Fitness                         62.62%\n",
      "Medical                                  21.03%\n",
      "Parenting                                5.02%\n",
      "Education                                2.92%\n",
      "Lifestyle                                2.80%\n",
      "Shopping                                 1.17%\n",
      "Productivity                             0.82%\n",
      "Tools                                    0.70%\n",
      "Food & Drink                             0.58%\n",
      "Simulation                               0.47%\n",
      "Business                                 0.47%\n",
      "Books & Reference                        0.35%\n",
      "Sports                                   0.35%\n",
      "Social                                   0.23%\n",
      "Music & Audio                            0.12%\n",
      "Beauty                                   0.12%\n",
      "Trivia                                   0.12%\n",
      "Communication                            0.12%\n",
      "\n",
      "\n",
      "Statistics of permissions and trackers:\n",
      "========================================\n",
      "Total Unique permissions:                1101\n",
      "Total Unique Dangerous permissions:      52\n",
      "Total Unique trackers:                   153\n"
     ]
    }
   ],
   "source": [
    "def extract_unique_item(dataframe):\n",
    "    unique_items = set()\n",
    "    for items in dataframe.dropna():\n",
    "        unique_items.update(str(items).split(\", \"))\n",
    "    return unique_items\n",
    "    \n",
    "\n",
    "# Calculate statistics\n",
    "total_apps_queried = len(result_df)\n",
    "unique_df = result_df.drop_duplicates(subset='app_id')\n",
    "\n",
    "total_unique_apps = len(unique_df)\n",
    "average_downloads = unique_df['downloads'].replace({'\\+': '', ',': ''}, regex=True).astype(int).mean()\n",
    "total_privacy_policy_yes = (unique_df['is_privacy_policy'] == 'Yes').sum()\n",
    "total_privacy_policy_no = (unique_df['is_privacy_policy'] == 'No').sum()\n",
    "total_apps_by_category = unique_df['categories'].value_counts()\n",
    "category_percentage = (total_apps_by_category / total_unique_apps * 100).round(2)\n",
    "\n",
    "total_unique_permissions = len(extract_unique_item(unique_df['permissions']))\n",
    "total_unique_danger_permissions = len(extract_unique_item(unique_df['dangerous_permissions']))\n",
    "total_unique_countries = len(extract_unique_item(unique_df['countries']))\n",
    "total_unique_trackers = len(extract_unique_item(unique_df['trackers']))\n",
    "\n",
    "total_free_apps = (unique_df['free'] == True).sum()\n",
    "total_paid_apps = (unique_df['free'] == False).sum()\n",
    "total_offersIAP = (unique_df['offersIAP'] == True).sum()\n",
    "total_not_offersIAP = (unique_df['offersIAP'] == False).sum()\n",
    "total_top_grossing = (unique_df['top_grossing'] == 'Yes').sum()\n",
    "total_with_inAppProductPrice = unique_df['inAppProductPrice'].notnull().sum()\n",
    "\n",
    "# Display the statistics\n",
    "print(\"Statistics of all mHealth Apps:\")\n",
    "print(\"=\" * 40)\n",
    "print(f\"{'Total Apps Queried:':<40} {total_apps_queried}\")\n",
    "print(f\"{'Total Unique Apps Found:':<40} {total_unique_apps}\")\n",
    "print(f\"{'Average downloads of All Apps:':<40} {average_downloads:.2f}\")\n",
    "print(f\"{'Total Unique countries:':<40} {total_unique_countries}\")\n",
    "print(f\"{'Total Privacy Policy (Yes):':<40} {total_privacy_policy_yes}\")\n",
    "print(f\"{'Total Privacy Policy (No):':<40} {total_privacy_policy_no}\")\n",
    "print(f\"{'Total free Apps:':<40} {total_free_apps}\")\n",
    "print(f\"{'Total Paid Apps:':<40} {total_paid_apps}\")\n",
    "print(f\"{'Total Apps offer in App Purchase:':<40} {total_offersIAP}\")\n",
    "print(f\"{'Total Apps DO NOT offer in App Purchase:':<40} {total_not_offersIAP}\")\n",
    "print(f\"{'Total Apps with in App Product Price:':<40} {total_with_inAppProductPrice}\")\n",
    "print(f\"{'Total Top-Grossing Apps:':<40} {total_top_grossing}\")\n",
    "print(f\"{'Total Number of categories:':<40} {len(total_apps_by_category)}\")  # Fixed this line\n",
    "\n",
    "print(\"\\nStatistics of Categories:\")\n",
    "print(\"=\" * 40)\n",
    "for category, percent in category_percentage.items():\n",
    "    print(f\"{category:<40} {percent:.2f}%\")\n",
    "print()\n",
    "print(\"\\nStatistics of permissions and trackers:\")\n",
    "print(\"=\" * 40)\n",
    "print(f\"{'Total Unique permissions:':<40} {total_unique_permissions}\")\n",
    "print(f\"{'Total Unique Dangerous permissions:':<40} {total_unique_danger_permissions}\")\n",
    "print(f\"{'Total Unique trackers:':<40} {total_unique_trackers}\")"
   ]
  },
  {
   "cell_type": "code",
   "execution_count": 4,
   "id": "90ea7acc-7d9e-48f7-8889-e530b8642972",
   "metadata": {},
   "outputs": [
    {
     "data": {
      "image/png": "[encoded data removed]",
      "text/plain": [
       "<Figure size 500x500 with 1 Axes>"
      ]
     },
     "metadata": {},
     "output_type": "display_data"
    }
   ],
   "source": [
    "import matplotlib.pyplot as plt\n",
    "\n",
    "top_categories = category_percentage.head(5)\n",
    "other_categories = category_percentage[5:].sum()\n",
    "\n",
    "# Prepare data for pie chart\n",
    "labels = top_categories.index.tolist() + ['Others']\n",
    "sizes = top_categories.tolist() + [other_categories]\n",
    "explode = [0.1] * 5 + [0]\n",
    "\n",
    "# Define custom label distances\n",
    "label_distances = [0.9, 0.95, 0.98, 0.92, 0.88, 0.92]  # health&fitness, medical, parenting, education, lifestyle, others\n",
    "\n",
    "plt.figure(figsize=(5, 5))\n",
    "\n",
    "wedges, texts, autotexts = plt.pie(\n",
    "    sizes,\n",
    "    labels=[f\"{label} ({size:.1f}%)\" for label, size in zip(labels[:5], sizes[:5])] + ['Others'],\n",
    "    autopct='%1.1f%%',\n",
    "    startangle=140,\n",
    "    colors=plt.cm.Paired.colors,\n",
    "    explode=explode,\n",
    "    pctdistance=0.8,\n",
    "    textprops={'fontsize': 12}\n",
    ")\n",
    "\n",
    "# Adjust label distances\n",
    "for i, text in enumerate(texts):\n",
    "    x, y = text.get_position()\n",
    "    r = label_distances[i]\n",
    "    text.set_position((r * x, r * y))\n",
    "\n",
    "plt.legend(labels, title=\"categories\", loc=\"center left\", bbox_to_anchor=(1, 0, 0.5, 1), fontsize=8, title_fontsize=10)\n",
    "\n",
    "plt.savefig('../figures/apps_by_category.png', bbox_inches='tight')\n",
    "plt.show()\n"
   ]
  },
  {
   "cell_type": "raw",
   "id": "5b339a8b-310c-4ab0-b97b-01bd77e3b058",
   "metadata": {},
   "source": [
    "Below we filter the dataset by regions: USA, Europe, and RoW (Rest of the World)"
   ]
  },
  {
   "cell_type": "code",
   "execution_count": 5,
   "id": "0481d7be-9305-42c9-b32e-127bb30743b7",
   "metadata": {},
   "outputs": [
    {
     "name": "stdout",
     "output_type": "stream",
     "text": [
      "28\n",
      "['at', 'be', 'bg', 'hr', 'cy', 'cz', 'dk', 'ee', 'fi', 'fr', 'de', 'gr', 'hu', 'ie', 'it', 'lv', 'lt', 'lu', 'mt', 'nl', 'pl', 'pt', 'ro', 'sk', 'si', 'es', 'se', 'uk', 'gb']\n"
     ]
    }
   ],
   "source": [
    "import pandas as pd\n",
    "\n",
    "usa = ['us']\n",
    "\n",
    "# source: https://www.gdpradvisor.co.uk/gdpr-countries\n",
    "GDPR_countries = ['Austria', 'Belgium', 'Bulgaria', 'Croatia', 'Cyprus', 'Czechia', 'Denmark', 'Estonia', 'Finland', 'France', \n",
    "                  'Germany', 'Greece', 'Hungary', 'Ireland', 'Italy', 'Latvia', 'Lithuania', 'Luxembourg', 'Malta', 'Netherlands', \n",
    "                  'Poland', 'Portugal', 'Romania', 'Slovakia', 'Slovenia', 'Spain', 'Sweden', 'United Kingdom']\n",
    "\n",
    "country_list = pd.read_csv(\"../data/country_list.csv\")\n",
    "\n",
    "europe = []\n",
    "\n",
    "for country in GDPR_countries:\n",
    "    matching_countries = country_list[country_list['country_name'].str.contains(country, na=False)]\n",
    "    europe.extend(matching_countries['country_code'].tolist())\n",
    "\n",
    "print(len(europe)-1)\n",
    "print(europe)"
   ]
  },
  {
   "cell_type": "code",
   "execution_count": 6,
   "id": "8756b32d-c290-439e-ab5a-eece282051df",
   "metadata": {},
   "outputs": [],
   "source": [
    "def filter_data(df):\n",
    "\n",
    "    def country_filter(countries, country_set):\n",
    "        return any(country.lower() in country_set for country in countries)\n",
    "\n",
    "    countries_list = df['countries'].str.split(', ').explode()\n",
    "    usa_europe = set(usa + europe)\n",
    "    rest_of_world = set(countries_list) - usa_europe\n",
    "    \n",
    "    df['country_split'] = df['countries'].str.split(', ')\n",
    "    us_filtered_df = df[df['country_split'].apply(lambda x: country_filter(x, usa))]\n",
    "    europe_filtered_df = df[df['country_split'].apply(lambda x: country_filter(x, europe))]\n",
    "    row_filtered_df = df[df['country_split'].apply(lambda x: country_filter(x, rest_of_world))]\n",
    "\n",
    "    print('Number of apps available in USA:', len(us_filtered_df))\n",
    "    print('Number of apps available in Europe:', len(europe_filtered_df))\n",
    "    print('Number of apps available in RoW:', len(row_filtered_df))\n",
    "    \n",
    "    return us_filtered_df, europe_filtered_df, row_filtered_df"
   ]
  },
  {
   "cell_type": "code",
   "execution_count": 7,
   "id": "ca87daff-d55d-4a02-9b81-2f194f0bcbbe",
   "metadata": {},
   "outputs": [
    {
     "name": "stdout",
     "output_type": "stream",
     "text": [
      "Number of apps available in USA: 360\n",
      "Number of apps available in Europe: 390\n",
      "Number of apps available in RoW: 834\n",
      "\n",
      "Statistics by Region:\n",
      "========================================\n",
      "\n",
      "USA:\n",
      "Total Unique Apps Found                  360\n",
      "Average downloads of All Apps            17984876.21111111\n",
      "Total Unique permissions                 697\n",
      "Total Unique Dangerous permissions       49\n",
      "Total Unique trackers                    124\n",
      "\n",
      "Europe:\n",
      "Total Unique Apps Found                  390\n",
      "Average downloads of All Apps            35097010.87948718\n",
      "Total Unique permissions                 787\n",
      "Total Unique Dangerous permissions       50\n",
      "Total Unique trackers                    118\n",
      "\n",
      "Rest of the World:\n",
      "Total Unique Apps Found                  834\n",
      "Average downloads of All Apps            22872342.368105516\n",
      "Total Unique permissions                 1087\n",
      "Total Unique Dangerous permissions       52\n",
      "Total Unique trackers                    152\n"
     ]
    }
   ],
   "source": [
    "import pandas as pd\n",
    "\n",
    "result_df = pd.read_csv(\"../data/mhealth_apps.csv\")\n",
    "\n",
    "# Function to compute statistics by region\n",
    "def compute_statistics(df):\n",
    "    total_unique_apps = df['app_id'].nunique()\n",
    "    average_downloads = df['downloads'].replace({'\\+': '', ',': ''}, regex=True).astype(int).mean()\n",
    "    unique_permissions = len(extract_unique_item(df['permissions']))\n",
    "    unique_dangerous_permissions = len(extract_unique_item(df['dangerous_permissions']))\n",
    "    unique_trackers = len(extract_unique_item(df['trackers']))\n",
    "    \n",
    "    return {\n",
    "        'Total Unique Apps Found': total_unique_apps,\n",
    "        'Average downloads of All Apps': average_downloads,\n",
    "        'Total Unique permissions': unique_permissions,\n",
    "        'Total Unique Dangerous permissions': unique_dangerous_permissions,\n",
    "        'Total Unique trackers': unique_trackers,\n",
    "    }\n",
    "\n",
    "usa_df, europe_df, rest_of_world_df = filter_data(result_df)\n",
    "\n",
    "usa_stats = compute_statistics(usa_df)\n",
    "europe_stats = compute_statistics(europe_df)\n",
    "rest_of_world_stats = compute_statistics(rest_of_world_df)\n",
    "\n",
    "# Display statistics\n",
    "print(\"\\nStatistics by Region:\")\n",
    "print(\"=\" * 40)\n",
    "for region, stats in zip(['USA', 'Europe', 'Rest of the World'], [usa_stats, europe_stats, rest_of_world_stats]):\n",
    "    print(f\"\\n{region}:\")\n",
    "    for stat_name, value in stats.items():\n",
    "        print(f\"{stat_name:<40} {value}\")\n"
   ]
  },
  {
   "cell_type": "code",
   "execution_count": 8,
   "id": "df06a5ea-e025-4def-838d-11f292225c36",
   "metadata": {},
   "outputs": [
    {
     "data": {
      "text/plain": [
       "categories\n",
       "Health & Fitness     207\n",
       "Medical              115\n",
       "Parenting             20\n",
       "Lifestyle              8\n",
       "Education              4\n",
       "Sports                 2\n",
       "Food & Drink           1\n",
       "Books & Reference      1\n",
       "Simulation             1\n",
       "Productivity           1\n",
       "Name: count, dtype: int64"
      ]
     },
     "execution_count": 8,
     "metadata": {},
     "output_type": "execute_result"
    }
   ],
   "source": [
    "us_category_count = usa_df['categories'].value_counts()\n",
    "us_category_count"
   ]
  },
  {
   "cell_type": "code",
   "execution_count": 9,
   "id": "ed3c166d-00f6-4cb6-9394-2dc8c6283eed",
   "metadata": {},
   "outputs": [
    {
     "data": {
      "text/plain": [
       "categories\n",
       "Health & Fitness     224\n",
       "Medical              121\n",
       "Parenting             21\n",
       "Lifestyle              9\n",
       "Education              8\n",
       "Productivity           2\n",
       "Books & Reference      1\n",
       "Simulation             1\n",
       "Tools                  1\n",
       "Business               1\n",
       "Sports                 1\n",
       "Name: count, dtype: int64"
      ]
     },
     "execution_count": 9,
     "metadata": {},
     "output_type": "execute_result"
    }
   ],
   "source": [
    "eu_category_count = europe_df['categories'].value_counts()\n",
    "eu_category_count"
   ]
  },
  {
   "cell_type": "code",
   "execution_count": 10,
   "id": "f589e4df-bf46-45a3-b414-f33cacc4ca7b",
   "metadata": {},
   "outputs": [
    {
     "data": {
      "text/plain": [
       "categories\n",
       "Health & Fitness     523\n",
       "Medical              173\n",
       "Parenting             42\n",
       "Education             25\n",
       "Lifestyle             24\n",
       "Shopping              10\n",
       "Productivity           7\n",
       "Tools                  6\n",
       "Food & Drink           5\n",
       "Simulation             4\n",
       "Books & Reference      3\n",
       "Sports                 3\n",
       "Business               3\n",
       "Social                 2\n",
       "Music & Audio          1\n",
       "Beauty                 1\n",
       "Trivia                 1\n",
       "Communication          1\n",
       "Name: count, dtype: int64"
      ]
     },
     "execution_count": 10,
     "metadata": {},
     "output_type": "execute_result"
    }
   ],
   "source": [
    "row_category_count = rest_of_world_df['categories'].value_counts()\n",
    "row_category_count"
   ]
  },
  {
   "cell_type": "code",
   "execution_count": 11,
   "id": "51fc6b4e-4aa7-4d79-9405-4ebf69e12c5e",
   "metadata": {},
   "outputs": [
    {
     "name": "stdout",
     "output_type": "stream",
     "text": [
      "Total European countries in the list: 28\n",
      "Total found European countries: 28\n"
     ]
    }
   ],
   "source": [
    "import re\n",
    "\n",
    "def extract_unique_countries(dataframe_column):\n",
    "    unique_countries = set()\n",
    "    for countries in dataframe_column.dropna():\n",
    "        unique_countries.update(str(countries).split(\", \"))\n",
    "    return unique_countries\n",
    "\n",
    "print(\"Total European countries in the list:\", len(europe)-1)\n",
    "\n",
    "europe_pattern = r'\\b(' + '|'.join(europe) + r')\\b'\n",
    "\n",
    "# Extract unique countries\n",
    "european_countries = set()\n",
    "countries = extract_unique_countries(europe_df['countries'])\n",
    "\n",
    "# Match countries with the European pattern\n",
    "for country in countries:\n",
    "    if re.match(europe_pattern, country.strip(), re.IGNORECASE):\n",
    "        european_countries.add(country)\n",
    "\n",
    "print(\"Total found European countries:\", len(european_countries)-1)"
   ]
  },
  {
   "cell_type": "code",
   "execution_count": null,
   "id": "d0b77b6e-2e7d-41ce-8a44-d3dfb434f2b3",
   "metadata": {},
   "outputs": [],
   "source": []
  },
  {
   "cell_type": "code",
   "execution_count": null,
   "id": "f9c29c75-a09c-4cc0-93e8-ae31273104e4",
   "metadata": {},
   "outputs": [],
   "source": []
  },
  {
   "cell_type": "code",
   "execution_count": null,
   "id": "734ec67d-4452-4356-ba12-534770882220",
   "metadata": {},
   "outputs": [],
   "source": []
  }
 ],
 "metadata": {
  "kernelspec": {
   "display_name": "Python 3 (ipykernel)",
   "language": "python",
   "name": "python3"
  },
  "language_info": {
   "codemirror_mode": {
    "name": "ipython",
    "version": 3
   },
   "file_extension": ".py",
   "mimetype": "text/x-python",
   "name": "python",
   "nbconvert_exporter": "python",
   "pygments_lexer": "ipython3",
   "version": "3.11.7"
  }
 },
 "nbformat": 4,
 "nbformat_minor": 5
}
