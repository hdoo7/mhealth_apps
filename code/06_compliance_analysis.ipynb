{
 "cells": [
  {
   "cell_type": "markdown",
   "id": "aab4a573-e4dd-4b98-b6e7-535ca1b89afa",
   "metadata": {},
   "source": [
    "# Analysing mHealth Apps compliance with privacy laws or regulations"
   ]
  },
  {
   "cell_type": "code",
   "execution_count": 1,
   "id": "88a4c20d-6668-4d4a-a129-87b60e0045a9",
   "metadata": {},
   "outputs": [],
   "source": [
    "import pandas as pd\n",
    "\n",
    "merged_df = pd.read_csv('../data/merged_df.csv')\n",
    "all_answers = pd.read_csv('../data/all_answers.csv')\n",
    "\n",
    "mhealth_apps_final = pd.merge(merged_df, all_answers, on='app_id', how='left')\n",
    "mhealth_apps_final['a12'] = mhealth_apps_final['a12'].fillna('Omitted') # apps lacking privacy policy\n",
    "\n",
    "mhealth_apps_final.to_csv('../data/mhealth_apps_final.csv', index=False)"
   ]
  },
  {
   "cell_type": "markdown",
   "id": "0a89c1cc-e893-4bc7-b57d-ad11a65354a2",
   "metadata": {},
   "source": [
    "# Q1: Does the privacy policy specify the types of data collected?"
   ]
  },
  {
   "cell_type": "code",
   "execution_count": 2,
   "id": "f3213f2f-86b2-49dd-b678-82abcd22bbec",
   "metadata": {},
   "outputs": [
    {
     "name": "stdout",
     "output_type": "stream",
     "text": [
      "Number of Apps mentioning collecting data in Data Safety: 695\n",
      "\n",
      "Number of Apps mentioning collecting data in Privacy Policy:\n",
      "a1\n",
      "Yes    649\n",
      "No      42\n",
      "Name: count, dtype: int64\n",
      "\n",
      "Variances: 46\n"
     ]
    }
   ],
   "source": [
    "app_data_collected = pd.read_csv('../data/app_data_collected.csv')\n",
    "\n",
    "print('Number of Apps mentioning collecting data in Data Safety:', len(app_data_collected['app_id'].unique()))\n",
    "\n",
    "print('\\nNumber of Apps mentioning collecting data in Privacy Policy:')\n",
    "a1_data_collected = mhealth_apps_final['a1'].value_counts()\n",
    "print(a1_data_collected)\n",
    "\n",
    "print('\\nVariances:', len(app_data_collected['app_id'].unique()) - len(mhealth_apps_final[mhealth_apps_final['a1'] == 'Yes']))"
   ]
  },
  {
   "cell_type": "markdown",
   "id": "a6cb61da-3afb-4d90-ad70-dcbd57a3a3ac",
   "metadata": {},
   "source": [
    "# Q2: Does the policy explain data collection practices for all, partial, or none of the collected data?"
   ]
  },
  {
   "cell_type": "code",
   "execution_count": 3,
   "id": "9a04b770-c0f0-4850-9458-cdbde285bd80",
   "metadata": {},
   "outputs": [
    {
     "name": "stdout",
     "output_type": "stream",
     "text": [
      "\n",
      "Number of Apps explaining data collection:\n"
     ]
    },
    {
     "data": {
      "text/plain": [
       "a2\n",
       "Partial       665\n",
       "Not at all     25\n",
       "All             1\n",
       "Name: count, dtype: int64"
      ]
     },
     "execution_count": 3,
     "metadata": {},
     "output_type": "execute_result"
    }
   ],
   "source": [
    "print('\\nNumber of Apps explaining data collection:')\n",
    "a2_collection_purpose = mhealth_apps_final['a2'].value_counts()\n",
    "a2_collection_purpose"
   ]
  },
  {
   "cell_type": "markdown",
   "id": "f7a5782f-c777-477d-8bdc-4d54d6527e56",
   "metadata": {},
   "source": [
    "# Q3: Does the privacy policy specify the types of data shared with third parties?"
   ]
  },
  {
   "cell_type": "code",
   "execution_count": 4,
   "id": "d458cd55-78cf-41c0-bae4-096c7d139935",
   "metadata": {},
   "outputs": [
    {
     "name": "stdout",
     "output_type": "stream",
     "text": [
      "Number of Apps mentioning sharing data in Data Safety: 373\n",
      "\n",
      "Number of Apps mentioning sharing data in Privacy Policy:\n",
      "a3\n",
      "Yes    591\n",
      "No     100\n",
      "Name: count, dtype: int64\n",
      "\n",
      "Variances: -218\n"
     ]
    }
   ],
   "source": [
    "app_data_shared = pd.read_csv('../data/app_data_shared.csv')\n",
    "print('Number of Apps mentioning sharing data in Data Safety:', len(app_data_shared['app_id'].unique()))\n",
    "\n",
    "print('\\nNumber of Apps mentioning sharing data in Privacy Policy:')\n",
    "a3_data_shared = mhealth_apps_final['a3'].value_counts()\n",
    "print(a3_data_shared)\n",
    "\n",
    "print('\\nVariances:', len(app_data_shared['app_id'].unique()) - len(mhealth_apps_final[mhealth_apps_final['a3'] == 'Yes']))"
   ]
  },
  {
   "cell_type": "markdown",
   "id": "90fd9d72-6a82-4009-83c6-88bd9c731215",
   "metadata": {},
   "source": [
    "# Q4: Does the policy explain data sharing practices for all, partial, or none of the shared data?"
   ]
  },
  {
   "cell_type": "code",
   "execution_count": 5,
   "id": "866d680b-0e01-47d5-b89e-e92bdb4351b4",
   "metadata": {},
   "outputs": [
    {
     "name": "stdout",
     "output_type": "stream",
     "text": [
      "\n",
      "Number of Apps explaining data sharing:\n"
     ]
    },
    {
     "data": {
      "text/plain": [
       "a4\n",
       "Partial       589\n",
       "Not at all    101\n",
       "All             1\n",
       "Name: count, dtype: int64"
      ]
     },
     "execution_count": 5,
     "metadata": {},
     "output_type": "execute_result"
    }
   ],
   "source": [
    "print('\\nNumber of Apps explaining data sharing:')\n",
    "a4_sharing_purpose = mhealth_apps_final['a4'].value_counts()\n",
    "a4_sharing_purpose"
   ]
  },
  {
   "cell_type": "markdown",
   "id": "06867d4d-ccfe-45dd-99a9-f104f47eff9d",
   "metadata": {},
   "source": [
    "# Q5: Does the policy explain who is receiving the shared data?"
   ]
  },
  {
   "cell_type": "code",
   "execution_count": 6,
   "id": "c0a64140-21b6-43a2-977f-17aafe98ebe4",
   "metadata": {},
   "outputs": [
    {
     "name": "stdout",
     "output_type": "stream",
     "text": [
      "\n",
      "Number of Apps explaining receipients of sharing data:\n"
     ]
    },
    {
     "data": {
      "text/plain": [
       "a5\n",
       "Yes        573\n",
       "No         113\n",
       "Partial      5\n",
       "Name: count, dtype: int64"
      ]
     },
     "execution_count": 6,
     "metadata": {},
     "output_type": "execute_result"
    }
   ],
   "source": [
    "print('\\nNumber of Apps explaining receipients of sharing data:')\n",
    "a5_sharing_recipients = mhealth_apps_final['a5'].value_counts()\n",
    "a5_sharing_recipients"
   ]
  },
  {
   "cell_type": "markdown",
   "id": "fca159e6-1f88-4e7f-9c16-8d57f7bfb201",
   "metadata": {},
   "source": [
    "# Q6: Does the policy explain users’ rights to access, correct, delete, or opt out of marketing communications?"
   ]
  },
  {
   "cell_type": "code",
   "execution_count": 7,
   "id": "c017a03d-5e1a-4383-9d50-d1294f165632",
   "metadata": {},
   "outputs": [
    {
     "data": {
      "text/plain": [
       "a6\n",
       "Partial       410\n",
       "All           211\n",
       "Not at all     70\n",
       "Name: count, dtype: int64"
      ]
     },
     "execution_count": 7,
     "metadata": {},
     "output_type": "execute_result"
    }
   ],
   "source": [
    "a6_user_rights = mhealth_apps_final['a6'].value_counts()\n",
    "a6_user_rights"
   ]
  },
  {
   "cell_type": "markdown",
   "id": "3974e1bf-a7f0-42cd-82e2-8c4fe526369d",
   "metadata": {},
   "source": [
    "# Q7: Does the policy mention if the data is encrypted in transit?"
   ]
  },
  {
   "cell_type": "code",
   "execution_count": 8,
   "id": "c12ead24-6d96-4db9-b143-cadf43b46116",
   "metadata": {},
   "outputs": [
    {
     "name": "stdout",
     "output_type": "stream",
     "text": [
      "Number of Apps mentioning data encrypted in Data Safety: 698\n"
     ]
    },
    {
     "data": {
      "text/plain": [
       "a7\n",
       "Not mentioned    470\n",
       "Encrypted        219\n",
       "Not encrypted      2\n",
       "Name: count, dtype: int64"
      ]
     },
     "execution_count": 8,
     "metadata": {},
     "output_type": "execute_result"
    }
   ],
   "source": [
    "app_security_practices = pd.read_csv('../data/app_security_practices.csv')\n",
    "\n",
    "print('Number of Apps mentioning data encrypted in Data Safety:', len(app_security_practices[app_security_practices['security_practices'] == 'Data is encrypted in transit']))\n",
    "\n",
    "a7_encrypted = mhealth_apps_final['a7'].value_counts()\n",
    "a7_encrypted"
   ]
  },
  {
   "cell_type": "markdown",
   "id": "b480f5dc-61e2-4687-bb38-fd01325313a7",
   "metadata": {},
   "source": [
    "# Q8: Does the policy outline security measures against unauthorized access or breaches?"
   ]
  },
  {
   "cell_type": "code",
   "execution_count": 9,
   "id": "8cea8f87-a4e3-4fc9-a8a7-0d1e84e160c0",
   "metadata": {},
   "outputs": [
    {
     "data": {
      "text/plain": [
       "a8\n",
       "Brief            564\n",
       "Not mentioned     88\n",
       "Detailed          39\n",
       "Name: count, dtype: int64"
      ]
     },
     "execution_count": 9,
     "metadata": {},
     "output_type": "execute_result"
    }
   ],
   "source": [
    "a8_security_measures = mhealth_apps_final['a8'].value_counts()\n",
    "a8_security_measures"
   ]
  },
  {
   "cell_type": "markdown",
   "id": "057b94ad-679f-4595-bfd6-53103e95004b",
   "metadata": {},
   "source": [
    "# Q9: Is contact information provided for questions or complaints? "
   ]
  },
  {
   "cell_type": "code",
   "execution_count": 10,
   "id": "aa4b98ad-0afd-402e-a38a-bcd7180b16c9",
   "metadata": {},
   "outputs": [
    {
     "name": "stdout",
     "output_type": "stream",
     "text": [
      "\n",
      "Number of Apps provide information for questions or complaints:\n"
     ]
    },
    {
     "data": {
      "text/plain": [
       "a9\n",
       "Yes    659\n",
       "No      32\n",
       "Name: count, dtype: int64"
      ]
     },
     "execution_count": 10,
     "metadata": {},
     "output_type": "execute_result"
    }
   ],
   "source": [
    "print('\\nNumber of Apps provide information for questions or complaints:')\n",
    "a9_contract_info = mhealth_apps_final['a9'].value_counts()\n",
    "a9_contract_info"
   ]
  },
  {
   "cell_type": "markdown",
   "id": "754d83b4-76c1-4bee-a161-464a6f4dabbd",
   "metadata": {},
   "source": [
    "# Q10: Does the policy address children’s data and parental consent? "
   ]
  },
  {
   "cell_type": "code",
   "execution_count": 11,
   "id": "7ae81f06-b7e0-4850-9dad-9911f8dca397",
   "metadata": {},
   "outputs": [
    {
     "data": {
      "text/plain": [
       "a10\n",
       "Brief            320\n",
       "Not mentioned    285\n",
       "Detailed          86\n",
       "Name: count, dtype: int64"
      ]
     },
     "execution_count": 11,
     "metadata": {},
     "output_type": "execute_result"
    }
   ],
   "source": [
    "a10_children = mhealth_apps_final['a10'].value_counts()\n",
    "a10_children"
   ]
  },
  {
   "cell_type": "markdown",
   "id": "c9818bcc-d4f9-41ee-a804-e1414fac89d2",
   "metadata": {},
   "source": [
    "# Q11: Does the policy explain the compliance with privacy laws?"
   ]
  },
  {
   "cell_type": "code",
   "execution_count": 22,
   "id": "3dee96ad-e979-40b4-866f-abaab08cca9a",
   "metadata": {},
   "outputs": [],
   "source": [
    "def filter_data(df):\n",
    "    usa = ['us']\n",
    "    europe = [\n",
    "        'al', 'ad', 'am', 'at', 'az', 'by', 'be', 'ba', 'bg', 'hr', 'cy', 'cz', 'dk', 'ee',\n",
    "        'fi', 'fr', 'ge', 'de', 'gi', 'gr', 'hu', 'is', 'ie', 'it', 'kz', 'xk', 'lv', 'li',\n",
    "        'lt', 'lu', 'mt', 'md', 'mc', 'me', 'nl', 'mk', 'no', 'pl', 'pt', 'ro', 'ru', 'sm',\n",
    "        'rs', 'sk', 'si', 'es', 'se', 'ch', 'ua', 'gb', 'va', 'uk'\n",
    "    ]\n",
    "\n",
    "    def country_filter(countries, country_set):\n",
    "        return any(country.lower() in country_set for country in countries)\n",
    "\n",
    "    countries_list = df['countries'].str.split(', ').explode()\n",
    "    country_counts = countries_list.value_counts()\n",
    "    top_5_countries = country_counts.head(5)\n",
    "    print(\"Top 5 countries:\")\n",
    "    print(top_5_countries)\n",
    "    \n",
    "    usa_europe = set(usa + europe)\n",
    "    rest_of_world = set(countries_list) - usa_europe\n",
    "    \n",
    "    df = df.copy()\n",
    "    df['country_split'] = df['countries'].str.split(', ')\n",
    "\n",
    "    # Apply filters\n",
    "    us_filtered_df = df[df['country_split'].apply(lambda x: country_filter(x, usa))]\n",
    "    europe_filtered_df = df[df['country_split'].apply(lambda x: country_filter(x, europe))]\n",
    "    row_filtered_df = df[df['country_split'].apply(lambda x: country_filter(x, rest_of_world))]\n",
    "\n",
    "    print('Number of apps available in USA:', len(us_filtered_df))\n",
    "    print('Number of apps available in Europe:', len(europe_filtered_df))\n",
    "    print('Number of apps available in RoW:', len(row_filtered_df))\n",
    "    \n",
    "    return us_filtered_df, europe_filtered_df, row_filtered_df"
   ]
  },
  {
   "cell_type": "markdown",
   "id": "83f2724f-2139-465e-a878-ae68f1288507",
   "metadata": {},
   "source": [
    "# Inconsistency Assessment"
   ]
  },
  {
   "cell_type": "code",
   "execution_count": 23,
   "id": "2c678c5a-5bdc-43bb-880a-99624b51ee86",
   "metadata": {},
   "outputs": [
    {
     "name": "stdout",
     "output_type": "stream",
     "text": [
      "PII Inconsistency: 52\n"
     ]
    }
   ],
   "source": [
    "import numpy as np\n",
    "import pandas as pd\n",
    "\n",
    "relevant_data = set(\n",
    "    item.strip().lower()\n",
    "    for col in ['data_shared', 'data_collected', 'a1_note', 'a3_note']\n",
    "    for sublist in mhealth_apps_final[col].dropna().astype(str).str.split(',')\n",
    "    for item in sublist\n",
    ")\n",
    "\n",
    "# Check for inconsistencies with case-insensitive comparison\n",
    "inconsistent_rows = mhealth_apps_final[\n",
    "    mhealth_apps_final['PII'].apply(\n",
    "        lambda pii: pd.notna(pii) and any(\n",
    "            pii_item.strip().lower() not in relevant_data \n",
    "            for pii_item in pii.split(',')\n",
    "        )\n",
    "    )\n",
    "]\n",
    "\n",
    "inconsistent_apps = inconsistent_rows\n",
    "print('PII Inconsistency:', len(inconsistent_apps))"
   ]
  },
  {
   "cell_type": "code",
   "execution_count": 24,
   "id": "2bff1fb9-6e57-4c3e-81dc-f942587197d8",
   "metadata": {},
   "outputs": [
    {
     "name": "stdout",
     "output_type": "stream",
     "text": [
      "36\n"
     ]
    }
   ],
   "source": [
    "using_other_ids = inconsistent_apps[\n",
    "    (inconsistent_apps['data_shared'].str.contains(\"other IDs\", case=False, na=False) |\n",
    "     inconsistent_apps['data_collected'].str.contains(\"other IDs\", case=False, na=False) |\n",
    "     inconsistent_apps['a1_note'].str.contains(\"other IDs\", case=False, na=False) |\n",
    "     inconsistent_apps['a3_note'].str.contains(\"other IDs\", case=False, na=False))\n",
    "    &\n",
    "    (inconsistent_apps['PII'].str.contains(\"aaid|aid|imsi|mac\", case=False, na=False))\n",
    "]\n",
    "print(len(using_other_ids))"
   ]
  },
  {
   "cell_type": "code",
   "execution_count": 25,
   "id": "70bee51b-0d59-4643-8e69-04ce3f7e5bae",
   "metadata": {},
   "outputs": [
    {
     "name": "stdout",
     "output_type": "stream",
     "text": [
      "16\n"
     ]
    }
   ],
   "source": [
    "inconsistent_apps = inconsistent_apps.merge(using_other_ids, how='outer', indicator=True).query('_merge == \"left_only\"').drop(columns=['_merge'])\n",
    "print(len(inconsistent_apps))"
   ]
  },
  {
   "cell_type": "code",
   "execution_count": 26,
   "id": "0dc2ab8e-b8ff-48b3-b9cc-5e1ec2343a2b",
   "metadata": {},
   "outputs": [
    {
     "name": "stdout",
     "output_type": "stream",
     "text": [
      "Number of CDC apps: 0\n"
     ]
    }
   ],
   "source": [
    "cdc_apps = inconsistent_apps[inconsistent_apps['app_id'].str.contains('cdc', na=False)]\n",
    "print('Number of CDC apps:', len(cdc_apps))"
   ]
  },
  {
   "cell_type": "code",
   "execution_count": 27,
   "id": "6ae20760-b641-48ed-ad6f-bf07dd23f50f",
   "metadata": {},
   "outputs": [
    {
     "data": {
      "text/html": [
       "<div>\n",
       "<style scoped>\n",
       "    .dataframe tbody tr th:only-of-type {\n",
       "        vertical-align: middle;\n",
       "    }\n",
       "\n",
       "    .dataframe tbody tr th {\n",
       "        vertical-align: top;\n",
       "    }\n",
       "\n",
       "    .dataframe thead th {\n",
       "        text-align: right;\n",
       "    }\n",
       "</style>\n",
       "<table border=\"1\" class=\"dataframe\">\n",
       "  <thead>\n",
       "    <tr style=\"text-align: right;\">\n",
       "      <th></th>\n",
       "      <th>categories</th>\n",
       "      <th>total_count</th>\n",
       "    </tr>\n",
       "  </thead>\n",
       "  <tbody>\n",
       "    <tr>\n",
       "      <th>0</th>\n",
       "      <td>Health &amp; Fitness</td>\n",
       "      <td>10</td>\n",
       "    </tr>\n",
       "    <tr>\n",
       "      <th>1</th>\n",
       "      <td>Medical</td>\n",
       "      <td>3</td>\n",
       "    </tr>\n",
       "    <tr>\n",
       "      <th>2</th>\n",
       "      <td>Books &amp; Reference</td>\n",
       "      <td>1</td>\n",
       "    </tr>\n",
       "    <tr>\n",
       "      <th>3</th>\n",
       "      <td>Education</td>\n",
       "      <td>1</td>\n",
       "    </tr>\n",
       "    <tr>\n",
       "      <th>4</th>\n",
       "      <td>Lifestyle</td>\n",
       "      <td>1</td>\n",
       "    </tr>\n",
       "  </tbody>\n",
       "</table>\n",
       "</div>"
      ],
      "text/plain": [
       "          categories  total_count\n",
       "0   Health & Fitness           10\n",
       "1            Medical            3\n",
       "2  Books & Reference            1\n",
       "3          Education            1\n",
       "4          Lifestyle            1"
      ]
     },
     "execution_count": 27,
     "metadata": {},
     "output_type": "execute_result"
    }
   ],
   "source": [
    "category_counts = inconsistent_apps.groupby('categories').size().reset_index(name='total_count')\n",
    "category_counts = category_counts.sort_values(by='total_count', ascending=False).reset_index(drop=True)\n",
    "\n",
    "category_counts"
   ]
  },
  {
   "cell_type": "code",
   "execution_count": 28,
   "id": "3088ba58-4756-4b4e-b803-fabd50137fc4",
   "metadata": {},
   "outputs": [
    {
     "name": "stdout",
     "output_type": "stream",
     "text": [
      "Top 5 countries:\n",
      "countries\n",
      "uk    10\n",
      "gb     9\n",
      "au     9\n",
      "bs     8\n",
      "am     8\n",
      "Name: count, dtype: int64\n",
      "Number of apps available in USA: 8\n",
      "Number of apps available in Europe: 14\n",
      "Number of apps available in RoW: 15\n",
      "Average downloads in USA: 6490670.375\n",
      "Average downloads in Europe: 3853653.1428571427\n",
      "Average downloads in RoW: 3597793.2\n"
     ]
    }
   ],
   "source": [
    "us_filtered_df, europe_filtered_df, row_filtered_df = filter_data(inconsistent_apps)\n",
    "print('Average downloads in USA:', us_filtered_df['downloads'].mean())\n",
    "print('Average downloads in Europe:', europe_filtered_df['downloads'].mean())\n",
    "print('Average downloads in RoW:', row_filtered_df['downloads'].mean())\n"
   ]
  },
  {
   "cell_type": "markdown",
   "id": "e8509ba6-fd06-4b75-984e-99e47e000933",
   "metadata": {},
   "source": [
    "# Noncompliance Assessment"
   ]
  },
  {
   "cell_type": "code",
   "execution_count": 29,
   "id": "8b99d716-5495-40f2-b936-b8f5c560cd3f",
   "metadata": {
    "scrolled": true
   },
   "outputs": [
    {
     "name": "stdout",
     "output_type": "stream",
     "text": [
      "Total unique laws: 90\n"
     ]
    },
    {
     "data": {
      "text/plain": [
       "{'\"On Personal Data\"No. ZRU-547',\n",
       " '152-FZ',\n",
       " 'AO',\n",
       " 'Act CVIII of 2001',\n",
       " 'Act on the Protection of Personal Information',\n",
       " 'BDSG',\n",
       " 'CAN-SPAM',\n",
       " 'CCPA',\n",
       " 'CCPA/CPRA',\n",
       " 'CNIL',\n",
       " 'COPPA',\n",
       " 'CPA',\n",
       " 'CPRA',\n",
       " 'CalOPPA',\n",
       " 'California Civil Code 1798.83',\n",
       " 'California Privacy Rights Act',\n",
       " 'Consumer Protection Act 2019',\n",
       " 'Consumer Protection Regulations',\n",
       " 'DPA',\n",
       " 'DPA IRR',\n",
       " 'DPDPA',\n",
       " 'DPF',\n",
       " 'DSGVO',\n",
       " 'Data Protection Act',\n",
       " 'Data Protection Act 2018',\n",
       " 'Data Protection Act 2019',\n",
       " 'Data Protection Laws',\n",
       " 'Digital Personal Data Protection Act 2023',\n",
       " 'EU-DSGVO',\n",
       " 'EU-US Privacy Shield',\n",
       " 'FDPA',\n",
       " 'FERPA',\n",
       " 'Federal Law on the Protection of Personal Data Held by Private Parties',\n",
       " 'GDPR',\n",
       " 'GINA',\n",
       " 'Google API Services User Data Policy',\n",
       " 'HIPAA',\n",
       " 'HITECH',\n",
       " 'INDIAN LAWS',\n",
       " 'Indian Companies Act 2013',\n",
       " 'Indian Information Technology Act of 2000',\n",
       " 'Information Technology (Intermediary Guidelines and Digital Media Ethics Code) Rules 2021',\n",
       " 'Information Technology Act 2000',\n",
       " 'JIS Q15001',\n",
       " 'Japanese laws',\n",
       " 'KVKK',\n",
       " 'Kuwait law',\n",
       " 'LGPD',\n",
       " 'LO 3/2018',\n",
       " 'LOPDGDD',\n",
       " 'Law 12.965/2014',\n",
       " 'Law 13.709/2018',\n",
       " 'Law of Ukraine \"On the Protection of Information in Information and Telecommunication Systems\"',\n",
       " 'LawNo 78-17 of 6 January 1978 (French Data Protection Act)',\n",
       " 'LawNo.18-07 of June 10 2018',\n",
       " 'Legislative Decree 101/2018',\n",
       " 'MTCDPA',\n",
       " 'My Health Records Act 2012 (Cth)',\n",
       " 'NPL',\n",
       " 'Network Act',\n",
       " 'Norwegian Personal Data Act of 2018',\n",
       " 'Not mentioned',\n",
       " 'Order of the FSTEC of Russia dated 18-02-2013 N 21',\n",
       " 'PCI-DSS',\n",
       " 'PD(P)O',\n",
       " 'PDP Law',\n",
       " 'PDPA',\n",
       " 'PDPL',\n",
       " 'PECR',\n",
       " 'PIPEDA',\n",
       " 'POPIA',\n",
       " 'Personal Data (Privacy) Ordinance (Chapter 486)',\n",
       " 'Personal Data Protection Law',\n",
       " 'Personal Information Protection Act',\n",
       " 'Privacy Act',\n",
       " 'Privacy Act 1988 (Cth)',\n",
       " 'Privacy Shield Framework',\n",
       " 'Shine the Light',\n",
       " 'TCPA',\n",
       " 'TTDSG',\n",
       " 'Turkish Code of Obligations',\n",
       " 'UCPA',\n",
       " 'UK Data Protection Act 2018',\n",
       " 'UK GDPR',\n",
       " 'US Laws',\n",
       " 'USA Data Protection Law',\n",
       " 'UWG',\n",
       " 'VCDPA',\n",
       " 'VSBG',\n",
       " 'consumer protection regulations'}"
      ]
     },
     "execution_count": 29,
     "metadata": {},
     "output_type": "execute_result"
    }
   ],
   "source": [
    "import re\n",
    "\n",
    "def extract_unique_item(dataframe):\n",
    "    unique_items = set()\n",
    "    for lists in dataframe.dropna():\n",
    "        item_list = lists.split(',')\n",
    "        for items in item_list:\n",
    "            items = items.split(',')\n",
    "        unique_items.update(item.strip() for item in items if item)\n",
    "    return unique_items\n",
    "\n",
    "unique_laws = extract_unique_item(mhealth_apps_final['a11'])\n",
    "print('Total unique laws:', len(unique_laws))\n",
    "unique_laws\n"
   ]
  },
  {
   "cell_type": "code",
   "execution_count": 30,
   "id": "8bb346ad-bb41-437a-8243-e91d136a014e",
   "metadata": {},
   "outputs": [
    {
     "name": "stdout",
     "output_type": "stream",
     "text": [
      "Apps do not mentioned laws or regulations: 211\n"
     ]
    },
    {
     "data": {
      "text/plain": [
       "categories\n",
       "Beauty                 1\n",
       "Books & Reference      1\n",
       "Business               1\n",
       "Education              4\n",
       "Food & Drink           2\n",
       "Health & Fitness     123\n",
       "Lifestyle             10\n",
       "Medical               52\n",
       "Music & Audio          1\n",
       "Parenting              9\n",
       "Productivity           2\n",
       "Shopping               3\n",
       "Simulation             1\n",
       "Tools                  1\n",
       "dtype: int64"
      ]
     },
     "execution_count": 30,
     "metadata": {},
     "output_type": "execute_result"
    }
   ],
   "source": [
    "no_compliance = mhealth_apps_final[mhealth_apps_final['a11'] == 'Not mentioned']\n",
    "print(\"Apps do not mentioned laws or regulations:\", len(no_compliance))\n",
    "no_compliance_count = no_compliance.groupby('categories').size()\n",
    "no_compliance_count"
   ]
  },
  {
   "cell_type": "code",
   "execution_count": 31,
   "id": "44b4d815-85a1-4042-86ee-efbe6e7eb5c3",
   "metadata": {},
   "outputs": [
    {
     "name": "stdout",
     "output_type": "stream",
     "text": [
      "Top 5 countries:\n",
      "countries\n",
      "sd    101\n",
      "mn     99\n",
      "cu     99\n",
      "mm     97\n",
      "cf     96\n",
      "Name: count, dtype: int64\n",
      "Number of apps available in USA: 67\n",
      "Number of apps available in Europe: 140\n",
      "Number of apps available in RoW: 201\n",
      "Average downloads in USA: 3135897.268656716\n",
      "Average downloads in Europe: 2840275.1642857143\n",
      "Average downloads in RoW: 3854093.109452736\n"
     ]
    }
   ],
   "source": [
    "us_filtered_df, europe_filtered_df, row_filtered_df = filter_data(no_compliance)\n",
    "filtered_no_compliance = pd.concat([us_filtered_df, europe_filtered_df], ignore_index=True)\n",
    "print('Average downloads in USA:', us_filtered_df['downloads'].mean())\n",
    "print('Average downloads in Europe:', europe_filtered_df['downloads'].mean())\n",
    "print('Average downloads in RoW:', row_filtered_df['downloads'].mean())"
   ]
  },
  {
   "cell_type": "code",
   "execution_count": 32,
   "id": "4b6ce9e6-bc4e-4dba-bffd-cd508f8fb9c9",
   "metadata": {},
   "outputs": [
    {
     "data": {
      "text/html": [
       "<div>\n",
       "<style scoped>\n",
       "    .dataframe tbody tr th:only-of-type {\n",
       "        vertical-align: middle;\n",
       "    }\n",
       "\n",
       "    .dataframe tbody tr th {\n",
       "        vertical-align: top;\n",
       "    }\n",
       "\n",
       "    .dataframe thead th {\n",
       "        text-align: right;\n",
       "    }\n",
       "</style>\n",
       "<table border=\"1\" class=\"dataframe\">\n",
       "  <thead>\n",
       "    <tr style=\"text-align: right;\">\n",
       "      <th></th>\n",
       "      <th>app_name</th>\n",
       "      <th>app_id</th>\n",
       "      <th>categories</th>\n",
       "      <th>content_rating</th>\n",
       "      <th>updated_on</th>\n",
       "      <th>downloads</th>\n",
       "      <th>free</th>\n",
       "      <th>offersIAP</th>\n",
       "      <th>top_grossing</th>\n",
       "      <th>is_privacy_policy</th>\n",
       "      <th>...</th>\n",
       "      <th>a4_note</th>\n",
       "      <th>a5_note</th>\n",
       "      <th>a6_note</th>\n",
       "      <th>a7_note</th>\n",
       "      <th>a8_note</th>\n",
       "      <th>a9_note</th>\n",
       "      <th>a10_note</th>\n",
       "      <th>a11_note</th>\n",
       "      <th>a12_note</th>\n",
       "      <th>country_split</th>\n",
       "    </tr>\n",
       "  </thead>\n",
       "  <tbody>\n",
       "  </tbody>\n",
       "</table>\n",
       "<p>0 rows × 55 columns</p>\n",
       "</div>"
      ],
      "text/plain": [
       "Empty DataFrame\n",
       "Columns: [app_name, app_id, categories, content_rating, updated_on, downloads, free, offersIAP, top_grossing, is_privacy_policy, countries, inAppProductPrice, privacy_policy_link, permissions, num_permissions, dangerous_permissions, num_dangerous_permissions, trackers, num_trackers, privacy_policy_file, data_shared, shared_purpose, data_collected, collected_purpose, security_practices, domains, PII, PHI, PII&PHI, Connectivity Issues, a1, a2, a3, a4, a5, a6, a7, a8, a9, a10, a11, a12, a1_note, a2_note, a3_note, a4_note, a5_note, a6_note, a7_note, a8_note, a9_note, a10_note, a11_note, a12_note, country_split]\n",
       "Index: []\n",
       "\n",
       "[0 rows x 55 columns]"
      ]
     },
     "execution_count": 32,
     "metadata": {},
     "output_type": "execute_result"
    }
   ],
   "source": [
    "noncompliance_apps = filtered_no_compliance[\n",
    "    filtered_no_compliance[['data_shared', 'data_collected', 'PII', 'PHI', 'PII&PHI']].isnull().all(axis=1)\n",
    "]\n",
    "noncompliance_apps"
   ]
  },
  {
   "cell_type": "code",
   "execution_count": 33,
   "id": "fb3c94d0-d6e4-4d2d-8a22-5ea4aa45fa15",
   "metadata": {},
   "outputs": [
    {
     "name": "stdout",
     "output_type": "stream",
     "text": [
      "Apps with no compliance:\n",
      "\n",
      "Sharing data: 87\n",
      "Collecting data: 207\n",
      "Collecting/sharing PII: 36\n",
      "Collecting/sharing PHI: 18\n",
      "Collecting/sharing PII&PHI: 137\n"
     ]
    }
   ],
   "source": [
    "print(\"Apps with no compliance:\\n\")\n",
    "apps_sharing = filtered_no_compliance[filtered_no_compliance['data_shared'].notnull()]\n",
    "print('Sharing data:', len(apps_sharing))\n",
    "\n",
    "apps_collecting = filtered_no_compliance[filtered_no_compliance['data_collected'].notnull()]\n",
    "print('Collecting data:', len(apps_collecting))\n",
    "\n",
    "apps_pii = filtered_no_compliance[filtered_no_compliance['PII'].notnull()]\n",
    "print('Collecting/sharing PII:', len(apps_pii))\n",
    "\n",
    "apps_phi = filtered_no_compliance[filtered_no_compliance['PHI'].notnull()]\n",
    "print('Collecting/sharing PHI:', len(apps_phi))\n",
    "\n",
    "apps_pii_phi = filtered_no_compliance[filtered_no_compliance['PII&PHI'].notnull()]\n",
    "print('Collecting/sharing PII&PHI:', len(apps_pii_phi))"
   ]
  },
  {
   "cell_type": "code",
   "execution_count": 34,
   "id": "eff596e2-35b3-4263-ada8-a09c8c34a41f",
   "metadata": {},
   "outputs": [
    {
     "name": "stdout",
     "output_type": "stream",
     "text": [
      "Number of apps mentioning laws in their privacy policies: 645\n",
      "\n",
      "Top 5 countries:\n",
      "countries\n",
      "ca    323\n",
      "th    322\n",
      "ru    314\n",
      "uk    312\n",
      "vn    311\n",
      "Name: count, dtype: int64\n",
      "Number of apps available in USA: 293\n",
      "Number of apps available in Europe: 464\n",
      "Number of apps available in RoW: 610\n",
      "Average downloads in USA: 21380376.515358362\n",
      "Average downloads in Europe: 30397379.015086208\n",
      "Average downloads in RoW: 29927035.144262295\n"
     ]
    }
   ],
   "source": [
    "law_mentioned_apps = mhealth_apps_final[mhealth_apps_final['a11'] != 'Not mentioned']\n",
    "print(f'Number of apps mentioning laws in their privacy policies: {len(law_mentioned_apps)}\\n')\n",
    "\n",
    "us_filtered_df, europe_filtered_df, row_filtered_df = filter_data(law_mentioned_apps)\n",
    "law_mentioned_apps = pd.concat([us_filtered_df, europe_filtered_df], ignore_index=True)\n",
    "print('Average downloads in USA:', us_filtered_df['downloads'].mean())\n",
    "print('Average downloads in Europe:', europe_filtered_df['downloads'].mean())\n",
    "print('Average downloads in RoW:', row_filtered_df['downloads'].mean())"
   ]
  },
  {
   "cell_type": "code",
   "execution_count": 35,
   "id": "dce0c994-1b34-4a20-8f45-7cfcc68c7970",
   "metadata": {},
   "outputs": [
    {
     "name": "stdout",
     "output_type": "stream",
     "text": [
      "Total unique laws: 40\n",
      "Apps that do not mention HIPAA: 252 (86.01%)\n"
     ]
    }
   ],
   "source": [
    "unique_laws_us = extract_unique_item(us_filtered_df['a11'])\n",
    "print('Total unique laws:', len(unique_laws_us))\n",
    "\n",
    "no_HIPAA = us_filtered_df[~us_filtered_df['a11'].str.contains('HIPAA', case=False, na=False)]\n",
    "print(f'Apps that do not mention HIPAA: {len(no_HIPAA)} ({len(no_HIPAA) / len(us_filtered_df) * 100:.2f}%)')\n"
   ]
  },
  {
   "cell_type": "code",
   "execution_count": 36,
   "id": "a7ed1aeb-1160-45f1-9b29-887ea34505fe",
   "metadata": {},
   "outputs": [
    {
     "name": "stdout",
     "output_type": "stream",
     "text": [
      "Apps accessible in USA:\n",
      "\n",
      "Sharing data: 115\n",
      "Collecting data: 200\n",
      "Collecting/sharing PII: 43\n",
      "Collecting/sharing PHI: 18\n",
      "Collecting/sharing PII&PHI: 179\n"
     ]
    }
   ],
   "source": [
    "print(\"Apps accessible in USA:\\n\")\n",
    "\n",
    "apps_sharing = no_HIPAA[no_HIPAA['data_shared'].notnull()]\n",
    "print('Sharing data:', len(apps_sharing))\n",
    "\n",
    "apps_collecting = no_HIPAA[no_HIPAA['data_collected'].notnull()]\n",
    "print('Collecting data:', len(apps_collecting))\n",
    "\n",
    "apps_pii = no_HIPAA[no_HIPAA['PII'].notnull()]\n",
    "print('Collecting/sharing PII:', len(apps_pii))\n",
    "\n",
    "apps_phi = no_HIPAA[no_HIPAA['PHI'].notnull()]\n",
    "print('Collecting/sharing PHI:', len(apps_phi))\n",
    "\n",
    "apps_pii_phi = no_HIPAA[no_HIPAA['PII&PHI'].notnull()]\n",
    "print('Collecting/sharing PII&PHI:', len(apps_pii_phi))"
   ]
  },
  {
   "cell_type": "code",
   "execution_count": 37,
   "id": "83d9e58a-4de9-45f4-9090-3fafaf67406e",
   "metadata": {},
   "outputs": [
    {
     "name": "stdout",
     "output_type": "stream",
     "text": [
      "Total unique laws: 61\n",
      "Apps that do not mention GDPR: 202 (43.53%)\n"
     ]
    }
   ],
   "source": [
    "unique_laws_europe = extract_unique_item(europe_filtered_df['a11'])\n",
    "print('Total unique laws:', len(unique_laws_europe))\n",
    "no_GDPR = europe_filtered_df[~europe_filtered_df['a11'].str.contains('GDPR', case=False, na=False)]\n",
    "print(f'Apps that do not mention GDPR: {len(no_GDPR)} ({len(no_GDPR) / len(europe_filtered_df) * 100:.2f}%)')\n"
   ]
  },
  {
   "cell_type": "code",
   "execution_count": 38,
   "id": "b8f56d39-0bd5-456d-90df-d4f8dcfdd761",
   "metadata": {},
   "outputs": [
    {
     "name": "stdout",
     "output_type": "stream",
     "text": [
      "Apps accessible in Europe:\n",
      "\n",
      "Sharing data: 66\n",
      "Collecting data: 97\n",
      "Collecting/sharing PII: 34\n",
      "Collecting/sharing PHI: 15\n",
      "Collecting/sharing PII&PHI: 126\n"
     ]
    }
   ],
   "source": [
    "print(\"Apps accessible in Europe:\\n\")\n",
    "\n",
    "apps_sharing = no_GDPR[no_GDPR['data_shared'].notnull()]\n",
    "print('Sharing data:', len(apps_sharing))\n",
    "\n",
    "apps_collecting = no_GDPR[no_GDPR['data_collected'].notnull()]\n",
    "print('Collecting data:', len(apps_collecting))\n",
    "\n",
    "apps_pii = no_GDPR[no_GDPR['PII'].notnull()]\n",
    "print('Collecting/sharing PII:', len(apps_pii))\n",
    "\n",
    "apps_phi = no_GDPR[no_GDPR['PHI'].notnull()]\n",
    "print('Collecting/sharing PHI:', len(apps_phi))\n",
    "\n",
    "apps_pii_phi = no_GDPR[no_GDPR['PII&PHI'].notnull()]\n",
    "print('Collecting/sharing PII&PHI:', len(apps_pii_phi))"
   ]
  },
  {
   "cell_type": "markdown",
   "id": "ce619c5b-49e4-4801-a9c0-8ea6bee40a27",
   "metadata": {},
   "source": [
    "# COPPA Compliance Assessment"
   ]
  },
  {
   "cell_type": "code",
   "execution_count": 39,
   "id": "8dc02c32-5343-451b-a18d-fd6e4c3cec5a",
   "metadata": {},
   "outputs": [
    {
     "name": "stdout",
     "output_type": "stream",
     "text": [
      "Number of apps under COPPA: 798\n"
     ]
    }
   ],
   "source": [
    "irrelevant_data = ['Teen', 'Mature 17+', 'Rated 12+', 'Rated for 12+', 'Rated for 18+']\n",
    "apps_coppa = mhealth_apps_final[\n",
    "    mhealth_apps_final['content_rating'].notna() & \n",
    "    ~mhealth_apps_final['content_rating'].isin(irrelevant_data)\n",
    "]\n",
    "print('Number of apps under COPPA:', len(apps_coppa))"
   ]
  },
  {
   "cell_type": "code",
   "execution_count": 40,
   "id": "9010926a-8f8f-4d7f-8d4d-275c9f77c53c",
   "metadata": {},
   "outputs": [
    {
     "name": "stdout",
     "output_type": "stream",
     "text": [
      "Average downloads of Detailed: 21723122.026666667\n",
      "Average downloads of Brief: 43772976.65\n",
      "Average downloads of Not mentioned: 14078218.893536123\n"
     ]
    },
    {
     "data": {
      "text/plain": [
       "a10\n",
       "Brief            300\n",
       "Not mentioned    263\n",
       "Detailed          75\n",
       "Name: count, dtype: int64"
      ]
     },
     "execution_count": 40,
     "metadata": {},
     "output_type": "execute_result"
    }
   ],
   "source": [
    "a10_children = apps_coppa['a10'].value_counts()\n",
    "\n",
    "print('Average downloads of Detailed:', apps_coppa[apps_coppa['a10'] == 'Detailed']['downloads'].mean())\n",
    "print('Average downloads of Brief:', apps_coppa[apps_coppa['a10'] == 'Brief']['downloads'].mean())\n",
    "print('Average downloads of Not mentioned:', apps_coppa[apps_coppa['a10'] == 'Not mentioned']['downloads'].mean())\n",
    "\n",
    "a10_children"
   ]
  },
  {
   "cell_type": "code",
   "execution_count": 41,
   "id": "fc9ee3e0-862b-4eb2-8f2b-1152104c2fdb",
   "metadata": {},
   "outputs": [
    {
     "name": "stdout",
     "output_type": "stream",
     "text": [
      "Number of apps sharing/collecting data but failed to address COPPA: 263\n",
      "Top 5 countries:\n",
      "countries\n",
      "md    109\n",
      "ua    109\n",
      "uk    109\n",
      "br    109\n",
      "ca    108\n",
      "Name: count, dtype: int64\n",
      "Number of apps available in USA: 96\n",
      "Number of apps available in Europe: 171\n",
      "Number of apps available in RoW: 243\n",
      "\n",
      "Average downloads in USA: 34129237.239583336\n",
      "Average downloads in Europe: 20131612.485380117\n",
      "\n",
      "Average downloads in RoW: 15146302.880658437\n"
     ]
    }
   ],
   "source": [
    "no_coppa_apps = apps_coppa[\n",
    "    (apps_coppa['a10'] == 'Not mentioned') & \n",
    "    (\n",
    "        (apps_coppa['data_shared'].notnull()) | \n",
    "        (apps_coppa['data_collected'].notnull()) | \n",
    "        (apps_coppa['a1'] == 'Yes') | \n",
    "        (apps_coppa['a3'] == 'Yes') | \n",
    "        (apps_coppa['PII'].notnull()) | \n",
    "        (apps_coppa['PHI'].notnull()) | \n",
    "        (apps_coppa['PII&PHI'].notnull())\n",
    "    )\n",
    "]\n",
    "\n",
    "print('Number of apps sharing/collecting data but failed to address COPPA:', len(no_coppa_apps))\n",
    "us_filtered_df, europe_filtered_df, row_filtered_df= filter_data(no_coppa_apps)\n",
    "print('\\nAverage downloads in USA:', us_filtered_df['downloads'].mean())\n",
    "print('Average downloads in Europe:', europe_filtered_df['downloads'].mean())\n",
    "print('\\nAverage downloads in RoW:', row_filtered_df['downloads'].mean())\n"
   ]
  },
  {
   "cell_type": "code",
   "execution_count": 42,
   "id": "3d711e4c-4e2e-430f-9d1c-4ce6e9968ed6",
   "metadata": {},
   "outputs": [
    {
     "data": {
      "text/plain": [
       "categories\n",
       "Health & Fitness     175\n",
       "Medical               53\n",
       "Parenting             12\n",
       "Lifestyle              9\n",
       "Education              3\n",
       "Business               3\n",
       "Shopping               3\n",
       "Productivity           2\n",
       "Books & Reference      1\n",
       "Beauty                 1\n",
       "Communication          1\n",
       "Name: count, dtype: int64"
      ]
     },
     "execution_count": 42,
     "metadata": {},
     "output_type": "execute_result"
    }
   ],
   "source": [
    "no_coppa_apps_category = no_coppa_apps['categories'].value_counts()\n",
    "no_coppa_apps_category"
   ]
  },
  {
   "cell_type": "markdown",
   "id": "1c064473-d806-4f52-8648-206fa81b1d5d",
   "metadata": {},
   "source": [
    "# Q12: How would you rate the policy disclosure?"
   ]
  },
  {
   "cell_type": "code",
   "execution_count": 43,
   "id": "f160c9d9-0da5-4ce6-b14a-f150d48d4619",
   "metadata": {},
   "outputs": [
    {
     "name": "stdout",
     "output_type": "stream",
     "text": [
      "\n",
      "Rate of the policy disclosure:\n"
     ]
    },
    {
     "data": {
      "text/plain": [
       "a12\n",
       "Vague      554\n",
       "Omitted    176\n",
       "Clear      126\n",
       "Name: count, dtype: int64"
      ]
     },
     "execution_count": 43,
     "metadata": {},
     "output_type": "execute_result"
    }
   ],
   "source": [
    "print('\\nRate of the policy disclosure:')\n",
    "a12_disclosure = mhealth_apps_final['a12'].value_counts()\n",
    "a12_disclosure"
   ]
  },
  {
   "cell_type": "code",
   "execution_count": null,
   "id": "bfc76fc6-6372-4385-8d20-94feeb735302",
   "metadata": {},
   "outputs": [],
   "source": []
  },
  {
   "cell_type": "code",
   "execution_count": null,
   "id": "79b4d0a9-e006-4e89-bb68-c20f3d65fe71",
   "metadata": {},
   "outputs": [],
   "source": []
  }
 ],
 "metadata": {
  "kernelspec": {
   "display_name": "Python 3 (ipykernel)",
   "language": "python",
   "name": "python3"
  },
  "language_info": {
   "codemirror_mode": {
    "name": "ipython",
    "version": 3
   },
   "file_extension": ".py",
   "mimetype": "text/x-python",
   "name": "python",
   "nbconvert_exporter": "python",
   "pygments_lexer": "ipython3",
   "version": "3.11.7"
  }
 },
 "nbformat": 4,
 "nbformat_minor": 5
}
